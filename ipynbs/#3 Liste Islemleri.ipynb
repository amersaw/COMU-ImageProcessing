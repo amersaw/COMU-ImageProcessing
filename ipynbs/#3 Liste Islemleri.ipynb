{
 "cells": [
  {
   "cell_type": "markdown",
   "metadata": {},
   "source": [
    "Amer Sawan - 130401073       &nbsp;&nbsp;&nbsp;&nbsp;&nbsp;&nbsp;&nbsp;&nbsp;&nbsp;&nbsp;&nbsp;&nbsp;&nbsp;&nbsp;&nbsp;&nbsp;&nbsp;&nbsp;&nbsp;&nbsp;&nbsp;&nbsp;&nbsp;&nbsp;&nbsp;&nbsp;&nbsp;&nbsp;&nbsp;&nbsp;&nbsp;&nbsp;&nbsp;&nbsp;&nbsp;&nbsp;&nbsp;&nbsp;&nbsp;&nbsp;&nbsp;&nbsp;&nbsp;&nbsp;&nbsp;&nbsp;&nbsp;&nbsp;&nbsp;&nbsp;&nbsp;&nbsp;&nbsp;&nbsp;&nbsp;&nbsp;&nbsp;&nbsp;&nbsp;&nbsp;&nbsp;                              Image Processing Codes Report"
   ]
  },
  {
   "cell_type": "markdown",
   "metadata": {},
   "source": [
    "# Liste İşlemleri"
   ]
  },
  {
   "cell_type": "code",
   "execution_count": 1,
   "metadata": {
    "collapsed": true
   },
   "outputs": [],
   "source": [
    "myList = [0, 1, 2]"
   ]
  },
  {
   "cell_type": "code",
   "execution_count": 2,
   "metadata": {
    "collapsed": true
   },
   "outputs": [],
   "source": [
    "def createSiraliList(size):\n",
    "    res = []\n",
    "    for i in range(size):\n",
    "        res.append(i)\n",
    "    return res"
   ]
  },
  {
   "cell_type": "code",
   "execution_count": 3,
   "metadata": {
    "collapsed": true
   },
   "outputs": [],
   "source": [
    "def listIncrement(liste, n):\n",
    "    res = []\n",
    "    for i in range(len(liste)):\n",
    "        res.append(liste[i] + n)\n",
    "    return res"
   ]
  },
  {
   "cell_type": "code",
   "execution_count": 4,
   "metadata": {},
   "outputs": [
    {
     "name": "stdout",
     "output_type": "stream",
     "text": [
      "liste1 =  [0, 1, 2, 3, 4]\n",
      "liste1'e 7 arttiktan sonra liste2 =  [7, 8, 9, 10, 11]\n"
     ]
    }
   ],
   "source": [
    "liste1 = createSiraliList(5)\n",
    "print('liste1 = ', liste1)\n",
    "\n",
    "liste2 = listIncrement(liste1, 7)\n",
    "print('liste1\\'e 7 arttiktan sonra liste2 = ', liste2)"
   ]
  },
  {
   "cell_type": "markdown",
   "metadata": {},
   "source": [
    "## Numpy vs normal liste zamanlama"
   ]
  },
  {
   "cell_type": "code",
   "execution_count": 5,
   "metadata": {},
   "outputs": [
    {
     "name": "stdout",
     "output_type": "stream",
     "text": [
      "1.54 s ± 39.6 ms per loop (mean ± std. dev. of 7 runs, 1 loop each)\n"
     ]
    }
   ],
   "source": [
    "%timeit normal_liste = listIncrement(createSiraliList(9000000), 1)"
   ]
  },
  {
   "cell_type": "code",
   "execution_count": 6,
   "metadata": {},
   "outputs": [
    {
     "name": "stdout",
     "output_type": "stream",
     "text": [
      "36.3 ms ± 1.97 ms per loop (mean ± std. dev. of 7 runs, 10 loops each)\n"
     ]
    }
   ],
   "source": [
    "# Numpy kütüphanesi dahil ediyoruz\n",
    "import numpy as np\n",
    "%timeit np.arange(9000000)+1\n",
    "np_list = np.arange(9000000)+1"
   ]
  },
  {
   "cell_type": "markdown",
   "metadata": {},
   "source": [
    "Yükarıda görüldüğü gibi, 9 milyon elemanlı listeler için :\n",
    "* Normal listenin oluşturma ve işletme süresi : ~1.54 saniye\n",
    "* Numpy listenin oluşturma ve işletme süresi : ~0.036 saniye"
   ]
  },
  {
   "cell_type": "markdown",
   "metadata": {},
   "source": [
    "### Aralıklar\n",
    "Numpy ile tüm elemanları almak için bu syntax'ı kullanabiliriz \n",
    "\n",
    "(:) symbolu bu konuda tüm elemanları anlamına geliyor"
   ]
  },
  {
   "cell_type": "code",
   "execution_count": 7,
   "metadata": {
    "collapsed": true
   },
   "outputs": [],
   "source": [
    "tmp = np_list[:]"
   ]
  },
  {
   "cell_type": "markdown",
   "metadata": {},
   "source": [
    "Ama birden fazla sayı arasında yazılırsa şu anlamına geliyor:\n",
    "+ Başlangıç : Bitiş\n",
    "+ Başlangıç : Bitiş : Artırış"
   ]
  },
  {
   "cell_type": "code",
   "execution_count": 8,
   "metadata": {
    "collapsed": true
   },
   "outputs": [],
   "source": [
    "# 0 indesli elemandan 499 elemana almaktadir\n",
    "tmp = np_list[1:500] "
   ]
  },
  {
   "cell_type": "markdown",
   "metadata": {},
   "source": [
    "**Dikkat**: bitiş konumda verilen sayı dahil değildir, yani :\n",
    "*    0  : 1   => 0 indesli sadece\n",
    "*    0  : 0   => herhangi bir eleman\n",
    "*    12 : 15 => 12, 13 ve 14 indesli elemanlar\n"
   ]
  }
 ],
 "metadata": {
  "kernelspec": {
   "display_name": "Python 3",
   "language": "python",
   "name": "python3"
  },
  "language_info": {
   "codemirror_mode": {
    "name": "ipython",
    "version": 3
   },
   "file_extension": ".py",
   "mimetype": "text/x-python",
   "name": "python",
   "nbconvert_exporter": "python",
   "pygments_lexer": "ipython3",
   "version": "3.6.2"
  }
 },
 "nbformat": 4,
 "nbformat_minor": 2
}
