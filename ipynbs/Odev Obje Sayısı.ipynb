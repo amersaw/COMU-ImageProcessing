{
 "cells": [
  {
   "cell_type": "markdown",
   "metadata": {},
   "source": [
    "# Obje Sayisi Bulma"
   ]
  },
  {
   "cell_type": "code",
   "execution_count": 2,
   "metadata": {
    "collapsed": true
   },
   "outputs": [],
   "source": [
    "import numpy as np\n",
    "import matplotlib.pyplot as plt\n",
    "from matplotlib.pyplot import imread\n",
    "from scipy.misc import imsave\n",
    "import myutils\n",
    "import math"
   ]
  },
  {
   "cell_type": "code",
   "execution_count": 3,
   "metadata": {},
   "outputs": [],
   "source": [
    "external_masks = np.array([  [[0,1],[1,1]], [[1,0],[1,1]], [[1,1],[0,1]], [[1,1],[1,0]]])\n",
    "internal_masks = np.array([  [[1,0],[0,0]], [[0,1],[0,0]], [[0,0],[1,0]], [[0,0],[0,1]]])\n",
    "\n",
    "def object_count(image,threshold=150):\n",
    "    c_1=0\n",
    "    c_2=0   \n",
    "    m,n=image.shape\n",
    "    for i in range(m-1):\n",
    "        for j in range(n-1):\n",
    "            for mask in internal_masks:\n",
    "                if False not in (image[i:i+2,j:j+2]==mask):\n",
    "                    c_1=c_1+1\n",
    "            for mask in external_masks:\n",
    "                if False not in (image[i:i+2,j:j+2]==mask):\n",
    "                    c_2=c_2+1\n",
    "    res=math.fabs((c_2-c_1)/4)\n",
    "    return int(res)"
   ]
  },
  {
   "cell_type": "markdown",
   "metadata": {},
   "source": [
    "## Çalıştırma örneği\n",
    "\n",
    "`obj_count` klasöründe bulunan 3 tane fotoğraf üzerinde çalıştıralım :"
   ]
  },
  {
   "cell_type": "code",
   "execution_count": 32,
   "metadata": {},
   "outputs": [
    {
     "data": {
      "image/png": "[encoded data removed]",
      "text/plain": [
       "<matplotlib.figure.Figure at 0x7f436b8b80b8>"
      ]
     },
     "metadata": {},
     "output_type": "display_data"
    }
   ],
   "source": [
    "for i in range(1,4):\n",
    "    image=myutils.convert_RGB_to_BW(imread('obj_count/objects{}.jpg'.format(i)))\n",
    "    c = object_count(image)\n",
    "    plt.subplot(1,3,i).set_title('Count: '+str(c))\n",
    "    plt.imshow(image, cmap='gray')\n",
    "plt.show()\n"
   ]
  }
 ],
 "metadata": {
  "kernelspec": {
   "display_name": "Python 3",
   "language": "python",
   "name": "python3"
  },
  "language_info": {
   "codemirror_mode": {
    "name": "ipython",
    "version": 3
   },
   "file_extension": ".py",
   "mimetype": "text/x-python",
   "name": "python",
   "nbconvert_exporter": "python",
   "pygments_lexer": "ipython3",
   "version": "3.6.3"
  }
 },
 "nbformat": 4,
 "nbformat_minor": 2
}
