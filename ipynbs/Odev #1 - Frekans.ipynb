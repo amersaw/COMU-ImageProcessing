{
 "cells": [
  {
   "cell_type": "markdown",
   "metadata": {},
   "source": [
    "# **Ödev**: Rastgele üretilen bir matrisin frekans değerleri"
   ]
  },
  {
   "cell_type": "code",
   "execution_count": 1,
   "metadata": {
    "collapsed": true
   },
   "outputs": [],
   "source": [
    "from scipy.ndimage import imread\n",
    "from scipy.misc import imsave\n",
    "import matplotlib.pyplot as plt\n",
    "import numpy as np"
   ]
  },
  {
   "cell_type": "code",
   "execution_count": 2,
   "metadata": {
    "scrolled": true
   },
   "outputs": [
    {
     "name": "stdout",
     "output_type": "stream",
     "text": [
      "0\t-\t15\t : 262.0\n",
      "16\t-\t31\t : 245.0\n",
      "32\t-\t47\t : 289.0\n",
      "48\t-\t63\t : 244.0\n",
      "64\t-\t79\t : 242.0\n",
      "80\t-\t95\t : 248.0\n",
      "96\t-\t111\t : 250.0\n",
      "112\t-\t127\t : 254.0\n",
      "128\t-\t143\t : 255.0\n",
      "144\t-\t159\t : 231.0\n",
      "160\t-\t175\t : 249.0\n",
      "176\t-\t191\t : 244.0\n",
      "192\t-\t207\t : 274.0\n",
      "208\t-\t223\t : 227.0\n",
      "224\t-\t239\t : 239.0\n",
      "240\t-\t255\t : 247.0\n",
      "Toplam pixel sayisi :  4000.0\n",
      "Ortalama renk bulunma sayisi:  15.625\n"
     ]
    }
   ],
   "source": [
    "img = np.random.randint(0,256,(4000))\n",
    "res = np.zeros(256)\n",
    "for i in img:\n",
    "    res[i] += 1\n",
    "\n",
    "interval = 16\n",
    "for i in range(0, 256, interval):\n",
    "    toplam = sum(res[i:i + interval])\n",
    "    start = i\n",
    "    end = i + interval -1\n",
    "    print('{}\\t-\\t{}\\t : {}'.format(start, end, toplam))\n",
    "\n",
    "print('Toplam pixel sayisi : ', sum(res))\n",
    "print('Ortalama renk bulunma sayisi: ', res.mean())"
   ]
  },
  {
   "cell_type": "markdown",
   "metadata": {},
   "source": [
    "Yükarıdaki görüldüğü gibi, tüm değerler birbirine yakın, demek ki randomization dengeli bir şekilde üretildi"
   ]
  }
 ],
 "metadata": {
  "kernelspec": {
   "display_name": "Python 3",
   "language": "python",
   "name": "python3"
  },
  "language_info": {
   "codemirror_mode": {
    "name": "ipython",
    "version": 3
   },
   "file_extension": ".py",
   "mimetype": "text/x-python",
   "name": "python",
   "nbconvert_exporter": "python",
   "pygments_lexer": "ipython3",
   "version": "3.6.3"
  }
 },
 "nbformat": 4,
 "nbformat_minor": 2
}
