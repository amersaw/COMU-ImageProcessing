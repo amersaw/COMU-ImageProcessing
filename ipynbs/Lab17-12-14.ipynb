{
 "cells": [
  {
   "cell_type": "markdown",
   "metadata": {},
   "source": [
    "# Geometry Transformation\n",
    "## 14/12/2017 Lab"
   ]
  },
  {
   "cell_type": "code",
   "execution_count": 6,
   "metadata": {},
   "outputs": [],
   "source": [
    "import numpy as np\n",
    "# from scipy.ndimage import imread as imread\n",
    "from matplotlib.pyplot import imread as imread\n",
    "import matplotlib.pyplot as plt\n",
    "import myutils"
   ]
  },
  {
   "cell_type": "code",
   "execution_count": 13,
   "metadata": {},
   "outputs": [
    {
     "data": {
      "image/png": "[encoded data removed]",
      "text/plain": [
       "<matplotlib.figure.Figure at 0x7f1c985bd630>"
      ]
     },
     "metadata": {},
     "output_type": "display_data"
    }
   ],
   "source": [
    "img = myutils.convert_RGB_to_BW( imread('bug.png'),0.8)\n",
    "plt.imshow(img, cmap='gray')\n",
    "plt.show()"
   ]
  },
  {
   "cell_type": "code",
   "execution_count": 14,
   "metadata": {},
   "outputs": [],
   "source": [
    "def applyTransform(img,mask):\n",
    "    new_img = np.zeros([img.shape[0],img.shape[1]]).astype(np.float32)\n",
    "    for i in range(img.shape[0]):\n",
    "        for j in range(img.shape[1]):\n",
    "            new_i =  sum(mask[0] * np.array([i,j]))  #  -1 * j\n",
    "            new_j =  sum(mask[1] * np.array([i,j]))  #1 * i\n",
    "            new_img[new_i, new_j] = img[i,j]\n",
    "    return new_img"
   ]
  },
  {
   "cell_type": "code",
   "execution_count": 15,
   "metadata": {},
   "outputs": [],
   "source": [
    "\n",
    "new_img = np.zeros([img.shape[0]*2, img.shape[1]*2])\n",
    "\n",
    "\n",
    "mask = np.array([[0,-1],[1,0]])\n",
    "# mask = np.array([[1,0],[0,1]])\n",
    "converted_img= applyTransform(img,mask)\n",
    "\n",
    "\n",
    "new_img[0:img.shape[0],0:img.shape[1]]=converted_img\n",
    "new_img[img.shape[0]:,img.shape[1]:] = img\n"
   ]
  },
  {
   "cell_type": "code",
   "execution_count": 16,
   "metadata": {},
   "outputs": [
    {
     "data": {
      "image/png": "[encoded data removed]",
      "text/plain": [
       "<matplotlib.figure.Figure at 0x7f1c985a5908>"
      ]
     },
     "metadata": {},
     "output_type": "display_data"
    }
   ],
   "source": [
    "plt.imshow(new_img, cmap='gray')\n",
    "plt.show()"
   ]
  },
  {
   "cell_type": "markdown",
   "metadata": {},
   "source": [
    "## 1- Native Bayes nedir, ne amacla kullanılır ?"
   ]
  },
  {
   "cell_type": "markdown",
   "metadata": {},
   "source": [
    "The Naive Bayes algorithm is an intuitive method that uses the probabilities of each attribute belonging to each class to make a prediction. It is the supervised learning approach you would come up with if you wanted to model a predictive modeling problem probabilistically.\n",
    "\n",
    "Native Bayes algoritması, sezgisel bir methoddur, her özelliğin olasılığı kullanarak bir tahmin üretme\n"
   ]
  },
  {
   "cell_type": "markdown",
   "metadata": {},
   "source": [
    "## 2- Classifier vs clusterer arasindaki farklari nedir ?\n",
    "\n",
    "classifier : label verilrise bir taneden classify edecek\n",
    "\n",
    "clusterer ise n tane cluster'e bolecek, baslangicta labeller yok\n",
    "\n",
    "bir sekilde veriyi analyse ederek algoritma fonk"
   ]
  },
  {
   "cell_type": "markdown",
   "metadata": {},
   "source": [
    "## 3- linkteki python kodundaki butun fonksiyonlarin inp/output seklinde blok semasi olarak gosterip kısaca amacını yazınız ?"
   ]
  },
  {
   "cell_type": "markdown",
   "metadata": {},
   "source": []
  },
  {
   "cell_type": "code",
   "execution_count": 4,
   "metadata": {},
   "outputs": [],
   "source": [
    "def separateByClass(dataset):\n",
    "    separated = {}\n",
    "    for i in range(len(dataset)):\n",
    "        vector = dataset[i]\n",
    "        if (vector[-1] not in separated):\n",
    "            separated[vector[-1]] = []\n",
    "            separated[vector[-1]].append(vector)\n",
    "    return separated"
   ]
  },
  {
   "cell_type": "markdown",
   "metadata": {},
   "source": [
    "## 4- datasetteki bir listin formunu kisaca aciklayiniz"
   ]
  },
  {
   "cell_type": "markdown",
   "metadata": {},
   "source": [
    "\n",
    "algo kullandigi veri seti bunu gosteriyor:\n",
    "\tform of a list\n",
    "\timg1.reshape(1,img1.shape[0] * img1.shape[1])\n",
    "\n",
    "\timg1.append('label')\n",
    "tek boy veri var en saginda etiket bilgisi var"
   ]
  },
  {
   "cell_type": "markdown",
   "metadata": {},
   "source": [
    "## 5- kac tane mean degeri vardir "
   ]
  },
  {
   "cell_type": "markdown",
   "metadata": {},
   "source": [
    "#(0-9) sanki"
   ]
  },
  {
   "cell_type": "markdown",
   "metadata": {},
   "source": [
    "## 6- TrainSet, TestSet nedir dataset üzerinden açıklayınız"
   ]
  },
  {
   "cell_type": "markdown",
   "metadata": {},
   "source": []
  },
  {
   "cell_type": "markdown",
   "metadata": {},
   "source": [
    "## 7-prediction (tahmin etme) nedir, hatasi nasil olculur?"
   ]
  },
  {
   "cell_type": "markdown",
   "metadata": {},
   "source": []
  },
  {
   "cell_type": "markdown",
   "metadata": {},
   "source": [
    "## 8- kendinizin olusturdugu bir test veirisi ile bu algo calistiriniz."
   ]
  },
  {
   "cell_type": "markdown",
   "metadata": {},
   "source": [
    "\n",
    "ordaki algo: en sondaki predeiction kullanacagiz, \n",
    "prediction = (97. satirda)\n",
    "(Kullanaılacak fonksiyon: predictions = getPredictions(summaries, testSet))"
   ]
  },
  {
   "cell_type": "markdown",
   "metadata": {},
   "source": [
    "## 9- (1 2 3) şeklinde bir resim alan, kac tane sayi rakam oldugunu bulan bir fonk yaziniz"
   ]
  },
  {
   "cell_type": "markdown",
   "metadata": {},
   "source": [
    "to BW, siniri 0 olan original sayacagiz... sonunda kac tane ada var bulan fonksiyon"
   ]
  },
  {
   "cell_type": "markdown",
   "metadata": {},
   "source": [
    "## 10- 9de elde ettigimiz sayin kadar resim return eden fonk yaziniz"
   ]
  },
  {
   "cell_type": "markdown",
   "metadata": {},
   "source": [
    "flood-fill ?"
   ]
  },
  {
   "cell_type": "markdown",
   "metadata": {},
   "source": [
    "## 11- 10de elde ettigniz her bir resmin, linkteki kod ile calistirip sonucu yazdiriniz "
   ]
  },
  {
   "cell_type": "markdown",
   "metadata": {},
   "source": []
  },
  {
   "cell_type": "markdown",
   "metadata": {},
   "source": [
    "## 12- bir resmi teta kadar rotation ceviren bir fonksiyon yaziniz"
   ]
  },
  {
   "cell_type": "markdown",
   "metadata": {},
   "source": []
  },
  {
   "cell_type": "markdown",
   "metadata": {},
   "source": [
    "## Notlar :"
   ]
  },
  {
   "cell_type": "markdown",
   "metadata": {},
   "source": [
    "a1)Naive bayes classifier nedir, ne amacli kullanilir ?\n",
    "\n",
    "kisaca, bir 2 cumle ile aciklamasi\n",
    "\n",
    "\n",
    "b2)classifier ile cluster arasindaki fark nedir?\n",
    "\n",
    "classifier : label verilrise bir taneden classify edecek\n",
    "clusterer ise n tane cluster'e bolecek, baslangicta labeller yok\n",
    "bir sekilde veriyi analyse ederek algoritma fonk\n",
    "\n",
    "c3) linkteki python kodundaki butun fonksiyonlarin inp/output seklinde blok semasi olarak gosterip\n",
    "kisaca amacini yaziniz\n",
    "ornek loadcsv function :\n",
    "\n",
    "input : file (rectangle:LoadCsv)\n",
    "output : dataset (a list of list) veya panda dataframe\n",
    "machinelearningmastery.com/native-bayes-classifier-scratch-python\n",
    "machinelearningmastery.com/native-bayes-classifier-scratch-python/\n",
    "\n",
    "\n",
    "d4) datasetteki bir listin formunu kisaca aciklayiniz\n",
    "\n",
    "\n",
    "\n",
    "algo kullandigi veri seti bunu gosteriyor:\n",
    "\tform of a list\n",
    "\timg1.reshape(1,img1.shape[0] * img1.shape[1])\n",
    "\n",
    "\timg1.append('label')\n",
    "tek boy veri var en saginda etiket bilgisi var\n",
    "\n",
    "\n",
    "e5)kac tane mean degeri vardir \n",
    "\n",
    "#(0-9) sanki\n",
    "\n",
    "\n",
    "f6) trainSet, testSet nedir, dataset uzerinde hangi..........\n",
    "\n",
    "g7) prediction (tahmin etme) nedir, hatasi nasil olculur?\n",
    "cevap : veri okuduk 2ye ayriliyorus train, test,\n",
    "\n",
    "ogretecegimiz fonk kullanacagimiz veriyi (train set) 80%\n",
    "test set acaba burda doguru mu kullaniyorum20% seklinde civarinda\n",
    "\n",
    "prediction, test setten vir verinin bu fonk ile test edip, train yaparken kullanmadim, aldigim deger ve gercek deger karsilastirip, \n",
    "ornek 100 tane var 20 yanlis 80 dogru => 20% hata orani olur\n",
    "\n",
    "\n",
    "\n",
    "g8) kendinizin olusturdugu bir test veirisi ile bu algo calistiriniz.\n",
    "\n",
    "ordaki algo: en sondaki predeiction kullanacagiz, \n",
    "prediction = (97. satirda)\n",
    "\n",
    "h) son yazdigimiz soruda bir sayi ?? .... ??\n",
    "\n",
    "\n",
    "i9) (1 2 3) kac tane sayi rakam oldugunu bulan bir fonk yaziniz\n",
    "\n",
    "\n",
    "to BW, siniri 0 olan original sayacagiz... sonunda kac tane ada var bulan fonksiyon\n",
    "\n",
    "\n",
    "j10) 9de elde ettigimiz sayin kadar resim return eden fonk yaziniz\n",
    "\n",
    "\n",
    "flood-fill ??\n",
    "\n",
    "\n",
    "h11) 10de elde ettigniz her bir resmin, linkteki kod ile calistirip sonucu yazdiriniz \n",
    "\n",
    "12) bir resmi teta kadar rotation ceviren bir fonksiyon yaziniz\n",
    "-----------------\n",
    "\n",
    "\n",
    "geometric transformations:\n",
    "\n",
    "\twrotations\n",
    "\treflection\n",
    "\tshear, travlation\n",
    "\n",
    "\n",
    "\n"
   ]
  },
  {
   "cell_type": "code",
   "execution_count": null,
   "metadata": {},
   "outputs": [],
   "source": []
  }
 ],
 "metadata": {
  "kernelspec": {
   "display_name": "Python 3",
   "language": "python",
   "name": "python3"
  },
  "language_info": {
   "codemirror_mode": {
    "name": "ipython",
    "version": 3
   },
   "file_extension": ".py",
   "mimetype": "text/x-python",
   "name": "python",
   "nbconvert_exporter": "python",
   "pygments_lexer": "ipython3",
   "version": "3.6.3"
  }
 },
 "nbformat": 4,
 "nbformat_minor": 2
}
