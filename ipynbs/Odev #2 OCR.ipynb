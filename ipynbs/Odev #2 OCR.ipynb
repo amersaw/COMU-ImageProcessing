{
 "cells": [
  {
   "cell_type": "markdown",
   "metadata": {},
   "source": [
    "# ODEV : Basit OCR Tanimlama"
   ]
  },
  {
   "cell_type": "code",
   "execution_count": 1,
   "metadata": {
    "collapsed": true
   },
   "outputs": [],
   "source": [
    "from matplotlib.pyplot import imread as imread\n",
    "from scipy import misc\n",
    "import matplotlib.pyplot as plt\n",
    "import numpy as np"
   ]
  },
  {
   "cell_type": "code",
   "execution_count": 2,
   "metadata": {
    "collapsed": true
   },
   "outputs": [],
   "source": [
    "def convert_RGB_to_BW(img, threshold = 100):\n",
    "    res = np.zeros((img.shape[0], img.shape[1]))\n",
    "    for i in range(res.shape[0]):\n",
    "        for j in range(res.shape[1]):\n",
    "            # 3 bileşenlerin ortalaması belirlenen threshold üstünde ise 1 olarak kabul edeceğiz\n",
    "            if(sum(img[i,j,:])/3 > threshold):\n",
    "                res[i,j] = 1\n",
    "            # değil ise 0 olarak kabul edeceğiz\n",
    "            else:\n",
    "                res[i,j] = 0\n",
    "    return res"
   ]
  },
  {
   "cell_type": "code",
   "execution_count": 3,
   "metadata": {
    "collapsed": true
   },
   "outputs": [],
   "source": [
    "letters = ['a', 'b', 'c', 'd', 'e']\n",
    "images = {}\n",
    "for l in letters:\n",
    "    images[l] = []  #l harfi icin bos bir liste haziriliyoruz, birazdan sonra icinde 5 tane eleman olacak\n",
    "    for i in range(1,6): # 1 .. 5\n",
    "        # ../letters/a1.jpg\n",
    "        img = convert_RGB_to_BW(imread('../letters/'+l+str(i)+'.jpg'))\n",
    "        images[l].append(img)"
   ]
  },
  {
   "cell_type": "markdown",
   "metadata": {},
   "source": [
    "## Harflardan ortak noktalar bulma\n",
    "\n",
    "her bir harf için el ile çizilmiş 5 tane fotoğraf oluşturdum, aşağıdaki gibi"
   ]
  },
  {
   "cell_type": "code",
   "execution_count": 4,
   "metadata": {},
   "outputs": [
    {
     "data": {
      "image/png": "[encoded data removed]",
      "text/plain": [
       "<matplotlib.figure.Figure at 0x7f10df549358>"
      ]
     },
     "metadata": {},
     "output_type": "display_data"
    },
    {
     "data": {
      "image/png": "[encoded data removed]",
      "text/plain": [
       "<matplotlib.figure.Figure at 0x7f10d75d7c50>"
      ]
     },
     "metadata": {},
     "output_type": "display_data"
    },
    {
     "data": {
      "image/png": "[encoded data removed]",
      "text/plain": [
       "<matplotlib.figure.Figure at 0x7f10d735e2b0>"
      ]
     },
     "metadata": {},
     "output_type": "display_data"
    },
    {
     "data": {
      "image/png": "[encoded data removed]",
      "text/plain": [
       "<matplotlib.figure.Figure at 0x7f10d768fd30>"
      ]
     },
     "metadata": {},
     "output_type": "display_data"
    },
    {
     "data": {
      "image/png": "[encoded data removed]",
      "text/plain": [
       "<matplotlib.figure.Figure at 0x7f10d71cc748>"
      ]
     },
     "metadata": {},
     "output_type": "display_data"
    }
   ],
   "source": [
    "for l in letters:\n",
    "    for (i,img) in enumerate(images[l]):\n",
    "        plt.axis('off')\n",
    "        plt.subplot(1,6,i+1), plt.imshow(img, cmap='gray')\n",
    "    plt.axis('off')\n",
    "    plt.show()"
   ]
  },
  {
   "cell_type": "code",
   "execution_count": 5,
   "metadata": {
    "collapsed": true
   },
   "outputs": [],
   "source": [
    "def findCenter(points):\n",
    "    x = 0\n",
    "    y = 0\n",
    "    for p in points:\n",
    "        x += p[0]\n",
    "        y += p[1]\n",
    "    return [x/len(points), y/len(points)]"
   ]
  },
  {
   "cell_type": "markdown",
   "metadata": {},
   "source": [
    "## getBlackPoints fonksiyonu\n",
    "Bu fonksiyon sadece fotoğraftaki siyah noktaların coordination'ları döndürüyor"
   ]
  },
  {
   "cell_type": "code",
   "execution_count": 6,
   "metadata": {
    "collapsed": true
   },
   "outputs": [],
   "source": [
    "def getBlackPoints(img):\n",
    "    return {(i,j)   for i in range(img.shape[0])\n",
    "            for j in range(img.shape[1]) \n",
    "            if img[i,j] == 1\n",
    "    }"
   ]
  },
  {
   "cell_type": "markdown",
   "metadata": {},
   "source": [
    "## myOCR fonksiyonu\n",
    "bu fonksiyon daha önce bulunan `reference` değerleri ve okuması istenilen fotoğrafı alarak, en yakın cevabı olan harfı döndürüyor"
   ]
  },
  {
   "cell_type": "code",
   "execution_count": 7,
   "metadata": {
    "collapsed": true
   },
   "outputs": [],
   "source": [
    "def myOCR(bt_img, reference):\n",
    "    res = {'letter':None, 'diff':[1000, 1000]}\n",
    "    found_center = findCenter(getBlackPoints(bt_img))\n",
    "    for l in reference:\n",
    "        diff_x = abs(found_center[0] - reference[l][0])\n",
    "        diff_y = abs(found_center[1] - reference[l][1])\n",
    "        if (diff_x + diff_y) < (sum(res['diff'])) :\n",
    "            res['letter'] = l\n",
    "            res['diff'] = [diff_x, diff_y]\n",
    "    return res"
   ]
  },
  {
   "cell_type": "markdown",
   "metadata": {},
   "source": [
    "## ``reference`` değerleri hesaplamak\n",
    "Her harf için her 5 fotoğrafları için ortak ortak noktayı bularak, bu noktaların ortağı `reference` sözlüğa saklanıacağız.\n",
    "\n",
    "Elde aldığımız değerler daha sonra `myOCR` fonksiyonu ile kullanacağız"
   ]
  },
  {
   "cell_type": "code",
   "execution_count": 8,
   "metadata": {
    "collapsed": true
   },
   "outputs": [],
   "source": [
    "reference = {}\n",
    "for l in letters:\n",
    "    center = None\n",
    "    for img in images[l]:\n",
    "        black_points = getBlackPoints(img)\n",
    "        curr_center = findCenter(black_points)\n",
    "        if center:\n",
    "            center = findCenter([center,curr_center])\n",
    "        else:\n",
    "            center = curr_center\n",
    "    reference[l] = center"
   ]
  },
  {
   "cell_type": "markdown",
   "metadata": {},
   "source": [
    "# Sonuç\n",
    "\n",
    "Aşağıda (test1, test2... test5) 5 tane farklı fotoğrafların `myOCR` ile çağırıldığında verilen sonuç"
   ]
  },
  {
   "cell_type": "code",
   "execution_count": 9,
   "metadata": {},
   "outputs": [
    {
     "data": {
      "image/png": "[encoded data removed]",
      "text/plain": [
       "<matplotlib.figure.Figure at 0x7f10d755a240>"
      ]
     },
     "metadata": {},
     "output_type": "display_data"
    },
    {
     "data": {
      "image/png": "[encoded data removed]",
      "text/plain": [
       "<matplotlib.figure.Figure at 0x7f10d6f35f60>"
      ]
     },
     "metadata": {},
     "output_type": "display_data"
    },
    {
     "data": {
      "image/png": "[encoded data removed]",
      "text/plain": [
       "<matplotlib.figure.Figure at 0x7f11042d7160>"
      ]
     },
     "metadata": {},
     "output_type": "display_data"
    },
    {
     "data": {
      "image/png": "[encoded data removed]",
      "text/plain": [
       "<matplotlib.figure.Figure at 0x7f10d743f518>"
      ]
     },
     "metadata": {},
     "output_type": "display_data"
    },
    {
     "data": {
      "image/png": "[encoded data removed]",
      "text/plain": [
       "<matplotlib.figure.Figure at 0x7f10d747a390>"
      ]
     },
     "metadata": {},
     "output_type": "display_data"
    }
   ],
   "source": [
    "for i in range(1, 6):\n",
    "    bt_img = convert_RGB_to_BW(imread('../letters/test{}.jpg'.format(i)))\n",
    "    res = myOCR(bt_img, reference)\n",
    "    plt.figure(figsize = (20,2)).suptitle('Harf:'+res['letter'], fontsize=15)\n",
    "    plt.imshow(bt_img, cmap='gray', interpolation='nearest')\n",
    "plt.show()"
   ]
  }
 ],
 "metadata": {
  "kernelspec": {
   "display_name": "Python 3",
   "language": "python",
   "name": "python3"
  },
  "language_info": {
   "codemirror_mode": {
    "name": "ipython",
    "version": 3
   },
   "file_extension": ".py",
   "mimetype": "text/x-python",
   "name": "python",
   "nbconvert_exporter": "python",
   "pygments_lexer": "ipython3",
   "version": "3.6.3"
  }
 },
 "nbformat": 4,
 "nbformat_minor": 2
}
