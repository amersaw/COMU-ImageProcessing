{
 "cells": [
  {
   "cell_type": "code",
   "execution_count": 1,
   "metadata": {
    "collapsed": true
   },
   "outputs": [],
   "source": [
    "from matplotlib.pyplot import imread as imread\n",
    "from scipy import misc\n",
    "import matplotlib.pyplot as plt\n",
    "import numpy as np"
   ]
  },
  {
   "cell_type": "code",
   "execution_count": 6,
   "metadata": {
    "collapsed": true
   },
   "outputs": [],
   "source": [
    "def convert_RGB_to_BW(img, threshold = 100):\n",
    "    res = np.zeros((img.shape[0], img.shape[1]))\n",
    "    for i in range(res.shape[0]):\n",
    "        for j in range(res.shape[1]):\n",
    "            # 3 bileşenlerin ortalaması belirlenen threshold üstünde ise 1 olarak kabul edeceğiz\n",
    "            if(sum(img[i,j,:])/3 > threshold):\n",
    "                res[i,j] = 1\n",
    "            # değil ise 0 olarak kabul edeceğiz\n",
    "            else:\n",
    "                res[i,j] = 0\n",
    "    return res"
   ]
  },
  {
   "cell_type": "code",
   "execution_count": 17,
   "metadata": {},
   "outputs": [],
   "source": [
    "letters = ['a', 'b', 'c', 'd', 'e']\n",
    "images = {}\n",
    "for l in letters:\n",
    "    images[l] = []  #l harfi icin bos bir liste haziriliyoruz, birazdan sonra icinde 5 tane eleman olacak\n",
    "    for i in range(1,6): # 1 .. 5\n",
    "        # ../letters/a1.jpg\n",
    "        img = convert_RGB_to_BW(imread('../letters/'+l+str(i)+'.jpg'))\n",
    "        images[l].append(img)"
   ]
  },
  {
   "cell_type": "code",
   "execution_count": 31,
   "metadata": {},
   "outputs": [
    {
     "name": "stdout",
     "output_type": "stream",
     "text": [
      "{'a': [90.26706351447206, 125.37545822001425], 'b': [89.41813474880138, 126.25368112276732], 'c': [90.65023460352276, 125.72746912344519], 'd': [89.19399484275147, 124.3893856601364], 'e': [90.94514617102217, 123.96260677552218]}\n",
      "[89.65589446499617, 126.36395151345944]\n"
     ]
    }
   ],
   "source": [
    "def findCenter(points):\n",
    "    x = 0\n",
    "    y = 0\n",
    "    for p in points:\n",
    "        x += p[0]\n",
    "        y += p[1]\n",
    "    return [x/len(points), y/len(points)]\n",
    "\n",
    "def getBlackPoints(img):\n",
    "    return {(i,j)   for i in range(img.shape[0])\n",
    "            for j in range(img.shape[1]) \n",
    "            if img[i,j] == 1\n",
    "    }\n",
    "\n",
    "\n",
    "reference = {}\n",
    "for l in letters:\n",
    "    center = None\n",
    "    for img in images[l]:\n",
    "        black_points = getBlackPoints(img)\n",
    "        curr_center = findCenter(black_points)\n",
    "        if center:\n",
    "            center = findCenter([center,curr_center])\n",
    "        else:\n",
    "            center = curr_center\n",
    "    reference[l] = center"
   ]
  },
  {
   "cell_type": "code",
   "execution_count": 62,
   "metadata": {},
   "outputs": [
    {
     "name": "stdout",
     "output_type": "stream",
     "text": [
      "{'a': [90.26706351447206, 125.37545822001425], 'b': [89.41813474880138, 126.25368112276732], 'c': [90.65023460352276, 125.72746912344519], 'd': [89.19399484275147, 124.3893856601364], 'e': [90.94514617102217, 123.96260677552218]}\n",
      "[91.19044057496787, 122.55783569007829]\n",
      "{'l': 'e', 'dd': [0.24529440394569235, 1.4047710854438833]}\n"
     ]
    },
    {
     "data": {
      "image/png": "[encoded data removed]",
      "text/plain": [
       "<matplotlib.figure.Figure at 0x7f807d4214a8>"
      ]
     },
     "metadata": {},
     "output_type": "display_data"
    }
   ],
   "source": [
    "\n",
    "print(reference)\n",
    "res = {'l':None, 'dd':[1000, 1000]}\n",
    "\n",
    "bt_img = convert_RGB_to_BW(imread('../letters/bt.jpg'))\n",
    "found_center = findCenter(getBlackPoints(bt_img))\n",
    "print(found_center)\n",
    "for l in reference:\n",
    "    d_x = abs(found_center[0] - reference[l][0])\n",
    "    d_y = abs(found_center[1] - reference[l][1])\n",
    "    if (d_x + d_y) < (sum(res['dd'])) :\n",
    "        res['l'] = l\n",
    "        res['dd'] = [d_x, d_y]\n",
    "print(res)\n",
    "plt.imshow(bt_img, cmap='gray')\n",
    "plt.show()"
   ]
  }
 ],
 "metadata": {
  "kernelspec": {
   "display_name": "Python 3",
   "language": "python",
   "name": "python3"
  },
  "language_info": {
   "codemirror_mode": {
    "name": "ipython",
    "version": 3
   },
   "file_extension": ".py",
   "mimetype": "text/x-python",
   "name": "python",
   "nbconvert_exporter": "python",
   "pygments_lexer": "ipython3",
   "version": "3.6.2"
  }
 },
 "nbformat": 4,
 "nbformat_minor": 2
}
