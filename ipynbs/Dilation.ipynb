{
 "cells": [
  {
   "cell_type": "markdown",
   "metadata": {},
   "source": [
    "# Dilation"
   ]
  },
  {
   "cell_type": "code",
   "execution_count": 1,
   "metadata": {
    "collapsed": true
   },
   "outputs": [],
   "source": [
    "import numpy as np\n",
    "import matplotlib.pyplot as plt\n",
    "from matplotlib.pyplot import imread\n",
    "from scipy.misc import imsave\n",
    "import myutils"
   ]
  },
  {
   "cell_type": "code",
   "execution_count": 2,
   "metadata": {
    "collapsed": true
   },
   "outputs": [],
   "source": [
    "def my_dilate(img, mask):\n",
    "    m,n = img.shape[0:2]\n",
    "    img_res = np.random.randint(0,1,(m,n))\n",
    "    for i in range(1, m-1):\n",
    "        for j in range(1,n-1):\n",
    "            x = {}\n",
    "            for k in range(len(mask)):# for i\n",
    "                for l in range(len(mask[0])): # for j\n",
    "                    x[(k,l)] = int(img[i-k+1,j-l+1]) and mask[k][l]\n",
    "            res = 0\n",
    "            for key in x:\n",
    "                res = res or x[key]\n",
    "            img_res[i,j] = res\n",
    "    return img_res"
   ]
  },
  {
   "cell_type": "code",
   "execution_count": 3,
   "metadata": {},
   "outputs": [
    {
     "data": {
      "image/png": "[encoded data removed]",
      "text/plain": [
       "<matplotlib.figure.Figure at 0x7ff05c5fb4e0>"
      ]
     },
     "metadata": {},
     "output_type": "display_data"
    }
   ],
   "source": [
    "# mask = [[1,1,1],[1,1,1],[1,1,1]]\n",
    "mask = imread('mask.jpg')\n",
    "maskBW = myutils.convert_RGB_to_BW(mask)\n",
    "\n",
    "img = imread('line.jpg')\n",
    "imgBW = myutils.convert_RGB_to_BW(img)\n",
    "\n",
    "p = plt.subplot(1,3,1).set_title('original ' + str(imgBW.shape))\n",
    "plt.imshow(imgBW, cmap='gray')\n",
    "\n",
    "p = plt.subplot(1,3,2).set_title('mask '+ str(maskBW.shape))\n",
    "plt.imshow(maskBW, cmap='gray')\n",
    "\n",
    "dilated_img = my_dilate(imgBW, maskBW)\n",
    "plt.subplot(1,3,3).set_title('dilated '+ str(dilated_img.shape))\n",
    "plt.imshow(dilated_img, cmap='gray')\n",
    "\n",
    "\n",
    "plt.show()\n"
   ]
  }
 ],
 "metadata": {
  "kernelspec": {
   "display_name": "Python 3",
   "language": "python",
   "name": "python3"
  },
  "language_info": {
   "codemirror_mode": {
    "name": "ipython",
    "version": 3
   },
   "file_extension": ".py",
   "mimetype": "text/x-python",
   "name": "python",
   "nbconvert_exporter": "python",
   "pygments_lexer": "ipython3",
   "version": "3.6.3"
  }
 },
 "nbformat": 4,
 "nbformat_minor": 2
}
