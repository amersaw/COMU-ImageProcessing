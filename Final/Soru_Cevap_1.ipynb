{
 "cells": [
  {
   "cell_type": "markdown",
   "metadata": {},
   "source": [
    "## 14/12/2017 Lab'te verilen sorulari"
   ]
  },
  {
   "cell_type": "markdown",
   "metadata": {},
   "source": [
    "### Aşağıdaki linkteki örnek üzerinde birkaç soru verilmiştir:\n",
    "\n",
    "https://machinelearningmastery.com/naive-bayes-classifier-scratch-python/\n",
    "\n",
    "Örnekteki veri seti \"Ulusal Diyabet ve Sindirim ve Böbrek Hastalıkları Enstitüsü\" tarafından toplanan bir veri seti 768 kişi üzerinde yapılan araştırma sonucudur.\n",
    "\n",
    "Her bir kişi için 9 veri toplanmıştır: \n",
    "1. Hamile kalma sayısı\n",
    "2. Oral glukoz tolerans testinde 2 saatlik plazma glikoz konsantrasyonu\n",
    "3. Diastolik tansiyon (mm Hg)\n",
    "4. Triceps deri kat kalınlığı (mm)\n",
    "5. 2 saatlik serum insülini (mu U / ml)\n",
    "6. Vücut kitle indeksi (ağırlık kg / (m yükseklik) ^ 2)\n",
    "7. Diyabet soyağacı Fonksiyonu\n",
    "8. Yaş (yıl)\n",
    "9. Sonuç/class: diabetes mellitus hastalığı var mı yok mu ? (0 veya 1 şeklinde) \n",
    "\n",
    "Örnekteki amacımız ilk 8 veriyi kullanarak kişide o hastalığı var mı yok mu karar verilmeli\n",
    "\n",
    "Veri setten birkaç örneği:\n",
    "\n",
    "![img](./dataset.png?raw=true)\n",
    "\n",
    "Veri hakkinda bilgi : https://archive.ics.uci.edu/ml/machine-learning-databases/pima-indians-diabetes/pima-indians-diabetes.names"
   ]
  },
  {
   "cell_type": "markdown",
   "metadata": {},
   "source": [
    "## 1- Native Bayes nedir, ne amacla kullanılır ?"
   ]
  },
  {
   "cell_type": "markdown",
   "metadata": {},
   "source": [
    "The Naive Bayes algorithm is an intuitive method that uses the probabilities of each attribute belonging to each class to make a prediction. It is the supervised learning approach you would come up with if you wanted to model a predictive modeling problem probabilistically.\n",
    "\n",
    "Native Bayes algoritması, sezgisel bir methoddur, her özelliğin olasılığı kullanarak bir tahmin üretme\n"
   ]
  },
  {
   "cell_type": "markdown",
   "metadata": {},
   "source": [
    "## 2- Classifier vs clusterer arasindaki farklari nedir ?\n",
    "**classifier** : label verilrise bir taneden classify edecek\n",
    "**clusterer** ise n tane cluster'e bolecek, baslangicta labeller yok\n",
    "\n",
    "bir sekilde veriyi analyse ederek algoritma fonk"
   ]
  },
  {
   "cell_type": "markdown",
   "metadata": {},
   "source": [
    "## 3- linkteki python kodundaki butun fonksiyonlarin input/output seklinde blok semasi olarak gosterip kısaca amacını yazınız ?"
   ]
  },
  {
   "cell_type": "markdown",
   "metadata": {},
   "source": [
    "![img](../Final/ip2.png?raw=true)"
   ]
  },
  {
   "cell_type": "markdown",
   "metadata": {},
   "source": [
    "## 4- datasetteki bir listin formunu kisaca aciklayiniz"
   ]
  },
  {
   "cell_type": "code",
   "execution_count": 1,
   "metadata": {
    "collapsed": true
   },
   "outputs": [
    {
     "ename": "SyntaxError",
     "evalue": "invalid syntax (<ipython-input-1-44a1eb34f505>, line 2)",
     "output_type": "error",
     "traceback": [
      "\u001b[0;36m  File \u001b[0;32m\"<ipython-input-1-44a1eb34f505>\"\u001b[0;36m, line \u001b[0;32m2\u001b[0m\n\u001b[0;31m    algo kullandigi veri seti bunu gosteriyor:\u001b[0m\n\u001b[0m                  ^\u001b[0m\n\u001b[0;31mSyntaxError\u001b[0m\u001b[0;31m:\u001b[0m invalid syntax\n"
     ]
    }
   ],
   "source": [
    "algo kullandigi veri seti bunu gosteriyor:\n",
    "    form of a list\n",
    "    img1.reshape(1,img1.shape[0]*img1.shape[1])\n",
    "    img1[-1]='label'  ya da img1.append('label')"
   ]
  },
  {
   "cell_type": "markdown",
   "metadata": {},
   "source": [
    "## 5- kac tane mean degeri vardir "
   ]
  },
  {
   "cell_type": "markdown",
   "metadata": {},
   "source": [
    "Her bir sütün bir mean değeri olacak, buna göre örnekteki veri setinde 9 sütün var olduğuna göre 9 tane olacaktır. ama son sütünde bir sonuç değeri olduğu için o değer önemli değildir. yani 8 tane mean değeri olacak"
   ]
  },
  {
   "cell_type": "markdown",
   "metadata": {},
   "source": [
    "## 6- TrainSet, TestSet nedir dataset üzerinden açıklayınız"
   ]
  },
  {
   "cell_type": "markdown",
   "metadata": {},
   "source": [
    "**Trainset** Bir model eğitmek için kullanılan veri seti.\n",
    "\n",
    "**TestSet** elde edilen sonuçları ne kadar doğur olduğunu kontrol etmek için kullanılan veri seti.\n",
    "\n",
    "Normalde Dataset (yani tüm veriler) başlamadan önce rastgele olarak 2ye ayrılır,30% testSet ve 70% trainset.\n",
    "\n",
    "Testset'te bulunan trainset'te herhangi bir tane olmamalı."
   ]
  },
  {
   "cell_type": "markdown",
   "metadata": {},
   "source": [
    "## 7-prediction (tahmin etme) nedir, hatasi nasil olculur?"
   ]
  },
  {
   "cell_type": "markdown",
   "metadata": {},
   "source": [
    "Bir trainset üzerinde eğitilmiş bir model için yeni bir veri ona verip elde edilen sonucu predection (tahmin edilir) denir.\n",
    "\n",
    "Hata ölçmek için birden fazla kayıt (testset olarak adlandırılır) toplayıp bu seti için doğru cevaplar saklayıp tahminleri ölçeriz. ölçtükten sonra elde ettiğimiz değerler kaç tane doğru olduğunu tespit edip (doğru olmak, elde edilen tahmin gerçek değer ile aynı olmak demek) onların oranı tahmin hatası olarak kabul edilir."
   ]
  },
  {
   "cell_type": "markdown",
   "metadata": {},
   "source": [
    "## 8- kendinizin olusturdugu bir test veirisi ile bu algo calistiriniz."
   ]
  },
  {
   "cell_type": "markdown",
   "metadata": {},
   "source": [
    "\n",
    "ordaki algo: en sondaki predeiction kullanacagiz, \n",
    "prediction = (97. satirda)\n",
    "(Kullanaılacak fonksiyon: predictions = getPredictions(summaries, testSet))\n",
    "\n",
    "\n",
    "Bunu yapabilmek için ellimizde bir veri set olmalı bu veriset için her bir satır için farklı farklı parametreler içermeli, aynı zamanda her satır için bir sonuç olmalı (parametreler sonucu etkileyen parametreler olmalı), daha sonra main fonksiyonunda yapıldığı gibi :\n",
    "\n",
    "1. Dosyadan **loadCSV** fonksiyonu kullanarak değerleri okur (veya farklı bir yerden)\n",
    "2. elde edilen sonuçları *trainingSet* ve *testSet* ikiye ayrılır **splitDataset** fonksiyonu ile.\n",
    "3. özetleri (*summaries*) hesaplanır, **summarizeByClass** fonksiyonu ile.\n",
    "4. tahminleri (*predictions*) ölçer, getPredictions fonksiyonu ile.\n",
    "5. Elde edilen sonuçların doğrululuğu (Accuracy) hesaplar, **getAccuracy** fonksiyonu ile.\n",
    "6. Accuracy'yı ekrana yazdırır"
   ]
  },
  {
   "cell_type": "markdown",
   "metadata": {},
   "source": [
    "## 9- (1 2 3) şeklinde bir resim alan, kac tane sayi rakam oldugunu bulan bir fonk yaziniz"
   ]
  },
  {
   "cell_type": "markdown",
   "metadata": {},
   "source": [
    "to BW, siniri 0 olan original sayacagiz... sonunda kac tane ada var bulan fonksiyon"
   ]
  },
  {
   "cell_type": "markdown",
   "metadata": {},
   "source": [
    "## 10- 9de elde ettigimiz sayin kadar resim return eden fonk yaziniz"
   ]
  },
  {
   "cell_type": "markdown",
   "metadata": {},
   "source": [
    "flood-fill ?"
   ]
  },
  {
   "cell_type": "markdown",
   "metadata": {},
   "source": [
    "## 11- 10de elde ettigniz her bir resmin, linkteki kod ile calistirip sonucu yazdiriniz "
   ]
  },
  {
   "cell_type": "markdown",
   "metadata": {},
   "source": []
  },
  {
   "cell_type": "markdown",
   "metadata": {},
   "source": [
    "## 12- bir resmi teta kadar rotation ceviren bir fonksiyon yaziniz"
   ]
  },
  {
   "cell_type": "markdown",
   "metadata": {},
   "source": []
  }
 ],
 "metadata": {
  "kernelspec": {
   "display_name": "Python 3",
   "language": "python",
   "name": "python3"
  },
  "language_info": {
   "codemirror_mode": {
    "name": "ipython",
    "version": 3
   },
   "file_extension": ".py",
   "mimetype": "text/x-python",
   "name": "python",
   "nbconvert_exporter": "python",
   "pygments_lexer": "ipython3",
   "version": "3.6.3"
  }
 },
 "nbformat": 4,
 "nbformat_minor": 2
}
